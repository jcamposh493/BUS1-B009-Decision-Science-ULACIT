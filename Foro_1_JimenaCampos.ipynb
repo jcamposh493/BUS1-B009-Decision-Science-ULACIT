{
  "nbformat": 4,
  "nbformat_minor": 0,
  "metadata": {
    "colab": {
      "name": "Foro#1-JimenaCampos.ipynb",
      "provenance": []
    },
    "kernelspec": {
      "name": "python3",
      "display_name": "Python 3"
    },
    "language_info": {
      "name": "python"
    }
  },
  "cells": [
    {
      "cell_type": "markdown",
      "source": [
        "# **Foro 1**\n",
        "Ejercicio #1"
      ],
      "metadata": {
        "id": "QEGZr0oS0Pia"
      }
    },
    {
      "cell_type": "code",
      "source": [
        "x = \"Hello World!\"\n",
        "print(x)"
      ],
      "metadata": {
        "colab": {
          "base_uri": "https://localhost:8080/"
        },
        "id": "L9HFxEwL0qWW",
        "outputId": "0c81a1a5-1f63-4ce2-84df-570aac1cc827"
      },
      "execution_count": 1,
      "outputs": [
        {
          "output_type": "stream",
          "name": "stdout",
          "text": [
            "Hello World!\n"
          ]
        }
      ]
    }
  ]
}